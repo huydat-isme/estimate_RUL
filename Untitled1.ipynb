{
 "cells": [
  {
   "cell_type": "code",
   "execution_count": 53,
   "id": "fc1e562f-e893-4d5a-8fd6-f7bdc2572ab3",
   "metadata": {},
   "outputs": [
    {
     "name": "stdout",
     "output_type": "stream",
     "text": [
      "       -0.022  -0.039  -0.183  -0.054  -0.105  -0.134  -0.129  -0.142\n",
      "0      -0.105  -0.017  -0.164  -0.183  -0.049   0.029  -0.115  -0.122\n",
      "1      -0.183  -0.098  -0.195  -0.125  -0.005  -0.007  -0.171  -0.071\n",
      "2      -0.178  -0.161  -0.159  -0.178  -0.100  -0.115  -0.112  -0.078\n",
      "3      -0.208  -0.129  -0.261  -0.098  -0.151  -0.205  -0.063  -0.066\n",
      "4      -0.232  -0.061  -0.281  -0.125   0.046  -0.088  -0.078  -0.078\n",
      "...       ...     ...     ...     ...     ...     ...     ...     ...\n",
      "20474  -0.022  -0.142   0.085  -0.078  -0.200  -0.198  -0.134  -0.093\n",
      "20475   0.024  -0.156   0.042  -0.039  -0.159  -0.071  -0.227  -0.132\n",
      "20476  -0.193  -0.303  -0.071  -0.125  -0.237  -0.251  -0.151   0.007\n",
      "20477  -0.115   0.076  -0.078  -0.332  -0.027  -0.002  -0.151  -0.005\n",
      "20478  -0.042   0.098   0.103  -0.059  -0.002  -0.342  -0.095  -0.276\n",
      "\n",
      "[20479 rows x 8 columns]\n",
      "       -0.022\n",
      "0      -0.105\n",
      "1      -0.183\n",
      "2      -0.178\n",
      "3      -0.208\n",
      "4      -0.232\n",
      "...       ...\n",
      "20474  -0.022\n",
      "20475   0.024\n",
      "20476  -0.193\n",
      "20477  -0.115\n",
      "20478  -0.042\n",
      "\n",
      "[20479 rows x 1 columns]\n"
     ]
    }
   ],
   "source": [
    "import numpy as np \n",
    "import pandas as pd \n",
    "import matplotlib.pyplot as plt \n",
    "import scipy\n",
    "\n",
    "dataset = pd.read_csv(\"1st_test/2003.10.22.12.06.24\",sep = '\\t')\n",
    "\n",
    "print(dataset)\n",
    "first = dataset.iloc[:,[0]]\n",
    "print(first)\n",
    "\n"
   ]
  },
  {
   "cell_type": "code",
   "execution_count": 56,
   "id": "b6079b8f-06ea-4dbe-82f6-d8f7f409e733",
   "metadata": {},
   "outputs": [
    {
     "name": "stdout",
     "output_type": "stream",
     "text": [
      "0.1246167666966247\n"
     ]
    }
   ],
   "source": [
    "def calculate_rms (df):\n",
    "    for col in list(df):\n",
    "        r = np.sqrt((df[col]**2).sum() / len(df[col]))  \n",
    "    return r\n",
    "print(calculate_rms(first))"
   ]
  },
  {
   "cell_type": "code",
   "execution_count": null,
   "id": "4b6f05c7-81a4-44e4-b37e-42a9e7c6fbb7",
   "metadata": {},
   "outputs": [],
   "source": []
  }
 ],
 "metadata": {
  "kernelspec": {
   "display_name": "Python 3 (ipykernel)",
   "language": "python",
   "name": "python3"
  },
  "language_info": {
   "codemirror_mode": {
    "name": "ipython",
    "version": 3
   },
   "file_extension": ".py",
   "mimetype": "text/x-python",
   "name": "python",
   "nbconvert_exporter": "python",
   "pygments_lexer": "ipython3",
   "version": "3.10.12"
  }
 },
 "nbformat": 4,
 "nbformat_minor": 5
}
