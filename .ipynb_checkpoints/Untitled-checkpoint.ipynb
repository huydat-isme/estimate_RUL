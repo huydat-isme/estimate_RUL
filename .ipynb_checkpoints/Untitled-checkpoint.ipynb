{
 "cells": [
  {
   "cell_type": "markdown",
   "id": "62ee2a6c-254f-472a-a04d-c54f75f1bba7",
   "metadata": {},
   "source": [
    "# Introduction\n",
    "- Các thiết bị hoặc bộ phận đều xuống cấp trong quá trình sử dụng. Hầu hết sự suy giảm đều dẫn đến việc giảm chất lượng, hiệu năng và dẫn đến thất bại => Việc tính RUL của các thiết bị là rất quan trọng để có thể giảm các rủi ro không mong muốn bằng cách thay thế bảo trì các thiệt bị 1 cách kịp thời\n",
    "- Sự xuống cấp thường đi liền với các hiện tượng vật lý cà có thể được quan sát ví dụ như sự thay đổi nhiệt độ và sự xuất hiện của các vết rạn nứt.\n",
    "- The remaining life: Là thời gian để tín hiệu  suy giảm đến khi chạm ngưỡng\n",
    "- Khó khăn khi tính toán RUL: sự thay đổi của tín hiệu degradation thường là ngẫu nhiên trong tự nhiên. Vì vậy để dự đoán chính xác là rất khó \n",
    "- 1 cách để tiếp cận sử dụng hệ số ngẫu nhiên với các tham số xác định và ngẫu nhiên và các thành phần lỗi ngẫu nhiên đẻ mô hình hóa các tín hiệu suy giảm\n",
    "+ Sử dụng hệ số ngẫu nhiên vì để tính đến sự biến đổi tự nhiên trong quá trình suy giảm . Các tham số xác định đại diện cho các yếu tố có hệ thống , trong khi các tham số ngẫu nhiên bắt lấy các biến động hoặc ko chắc chắn trong hệ thống\n",
    "- 1 cách tiếp cận khác sử dụng Brownian motion .Trong quá trình suy giảm, các tín hiệu đo được thường tăng dần và tiến gần đến mức độ hỏng hoặc không hoạt động của hệ thống hoặc thành phần. Chuyển động Brownian được sử dụng để mô hình hóa sự biến đổi ngẫu nhiên của tín hiệu suy giảm, giống như sự không chắc chắn trong việc di chuyển của các hạt trong chuyển động Brownian.\n",
    "-Ge-braeel và đồng nghiệp đã phát triển mô hình degradation dựa trên sensory-sersor để dự đoán RLDs và cập nhật các phân phối theo thời gian thực. Theo đó, RLDs được ước tính là phân phối của thời gian để quỹ đạo của degradation signal chạm đến ngưỡng.Trong thực tế, đây là 1 sự xấp xỉ bởi sự dao động của tín hiệu có thể đã vượt qua ngưỡng trước khi dự đoán được remaining life.Nói cách khác RLDs được tính trong Refs không đại diện cho thời gian trôi qua đầu tiên. Trong trường hợp tín hiệu dao động lớn phép tính gần đúng này có thể không chính xác. Để giải quyết vấn đề này, tác giả đã ước lượng RUL bằng cách sử dụng trung vị của RLDs\n",
    "- Trong bài nghiên cứu này, ta sẽ sử dụng degradation model dưạ trên các cảm biến để ước tính xấp xỉ RLDs mà có các biểu thức dạng đóng cho phương sai và giá trị trung bình.Để làm được điều này ta sẽ mô hình hóa các tín hiệu degradation bằng việc sử dụng các mô hình hệ số ngẫu nhiên cùng với lỗi tuân theo Brownian motion process."
   ]
  },
  {
   "cell_type": "markdown",
   "id": "22f30787-bda9-4b6c-b4bf-01e95e300e86",
   "metadata": {},
   "source": [
    "# Sersor-Based Degradation Models\n",
    " $S =  \\{ S_(t_k) , t_k > 0 \\}$  là một quá trình ngẫu nhiên theo thời gian thực với $ S_(t_k) $ là giá trị của tín hiệu degradation tại thời điểm $ t_k, k=0,1,...$. Tín hiệu này phát triển theo mô hình :\n",
    "               \n",
    "   $ S_(t_k) = h(t_k;\\phi,\\theta) +\\varepsilon(t_k) $\n",
    "\n",
    "Với h(.) là đại diện cho các hình thức chức năng đặc trưng cho sự phát triển của tín hiệu $S_(t_k)$.\n",
    "$ \\phi $ được xác định và nắm bắt các đặc điểm suy giảm không đổi dựa trên toàn bộ "
   ]
  },
  {
   "cell_type": "markdown",
   "id": "24ff41cd-f438-4475-b19a-23e976d7f9e6",
   "metadata": {},
   "source": [
    "## Linear Degradation Model.\n",
    "$ S_{t_{k}} = \\phi + \\theta t_k + \\varepsilon(t_k) $ \n",
    "<br>\n",
    "$ (S_(t_k)) $ là giá trị đo được tại thời điểm $ t_k $ , k= 0,1,2... <br>\n",
    "$\\phi$ là giá trị tham số không đổi <br>\n",
    "\n",
    "$ \\theta $ là biến ngẫu nhiên theo phân phối chuẩn cho trước $\\pi(\\theta)$ với trung bình $ \\mu_o$ và phương sai $(\\sigma_0)^2$. $ \\theta $ là một tham số ngẫu nhiên nắm bắt các đặc điểm xuống cấp ngẫu nhiên của các thành phần riêng lẻ được theo dõi. <br>\n",
    "$ \\varepsilon(t_k)$  là thuật ngữ lỗi theo chuyển động Brown với tham số trung bình bằng 0 và phương sai $(\\sigma)^2$\n",
    "\n"
   ]
  },
  {
   "cell_type": "markdown",
   "id": "7f8b6d76-cfaa-483a-9d64-dd4df0ee830f",
   "metadata": {},
   "source": [
    "# Computing the Remaining Life Distribution\n",
    " Cho $S_1,....,S_k $ là các mức tăng quna sát được của tín hiệu degradation tại thời điểm $t_k$. Chúng ta xác định các biến ngẫu nhiên $S_{(t_k +t)} $ là giá trị của tín hiệu suy giảm sau thời gian t. Giá trị phương sai và trung bình của biến ngẫu nhiên S_{t_k+t} được cho bởi: <br>\n",
    " $\\mu'(t_k+t) = \\mu_{\\theta,t_k}t + S_{t_k}$ <br>\n",
    " $\\sigma'^2(t_k+t) =\\sigma_{\\theta,t_k}^2.t^2 + \\sigma^2t $ <br>\n",
    " RLD sau đó được đánh giá bằng cách tính toán sự phân bố của thời gian cho đến khi tín hiệu suy giảm đạt đến ngưỡng lỗi xác định trước $\\delta$. Lấy T là 1 biến ngẫu nhiên biểu thị tuổi thọ còn lại của một bộ phận bị xuống cấp một phần mà chúng tôi đã quan sát được $S_1,...,S_k $. Sự phân bố của nó được biểu diễn bằng: <br>\n",
    " $P(T\\leqslant t) = P(S_{(t+t_k)}) $"
   ]
  },
  {
   "cell_type": "code",
   "execution_count": 3,
   "id": "abce46e3-8171-404c-972c-858bb7d7d8cb",
   "metadata": {},
   "outputs": [
    {
     "ename": "ModuleNotFoundError",
     "evalue": "No module named 'matplotlib'",
     "output_type": "error",
     "traceback": [
      "\u001b[1;31m---------------------------------------------------------------------------\u001b[0m",
      "\u001b[1;31mModuleNotFoundError\u001b[0m                       Traceback (most recent call last)",
      "Cell \u001b[1;32mIn[3], line 2\u001b[0m\n\u001b[0;32m      1\u001b[0m \u001b[38;5;28;01mimport\u001b[39;00m \u001b[38;5;21;01mnumpy\u001b[39;00m \u001b[38;5;28;01mas\u001b[39;00m \u001b[38;5;21;01mnp\u001b[39;00m\n\u001b[1;32m----> 2\u001b[0m \u001b[38;5;28;01mimport\u001b[39;00m \u001b[38;5;21;01mmatplotlib\u001b[39;00m\u001b[38;5;21;01m.\u001b[39;00m\u001b[38;5;21;01mpyplot\u001b[39;00m \u001b[38;5;28;01mas\u001b[39;00m \u001b[38;5;21;01mplt\u001b[39;00m\n\u001b[0;32m      3\u001b[0m \u001b[38;5;28;01mfrom\u001b[39;00m \u001b[38;5;21;01mscipy\u001b[39;00m\u001b[38;5;21;01m.\u001b[39;00m\u001b[38;5;21;01mstats\u001b[39;00m \u001b[38;5;28;01mimport\u001b[39;00m norm\n\u001b[0;32m      5\u001b[0m \u001b[38;5;66;03m# Parameters\u001b[39;00m\n",
      "\u001b[1;31mModuleNotFoundError\u001b[0m: No module named 'matplotlib'"
     ]
    }
   ],
   "source": [
    "import numpy as np\n",
    "import matplotlib.pyplot as plt\n",
    "from scipy.stats import norm\n",
    "\n",
    "# Parameters\n",
    "phi = 10        \n",
    "mu_theta = 0    # Mean of theta (random parameter)\n",
    "sigma_theta = 1 # Standard deviation of theta (random parameter)\n",
    "sigma_epsilon = 1 # Standard deviation of epsilon (Brownian motion term)\n",
    "\n",
    "# Generate time points\n",
    "num_points = 100\n",
    "time_points = np.linspace(0, 10, num_points)\n",
    "# np.random.normal(loc ,scale, size)\n",
    "# loc: Giá trị trung bình của phân phối chuẩn.\n",
    "# scale: Độ lệch chuẩn của phân phối chuẩn (kích thước sự biến đổi từ giá trị trung bình).\n",
    "# size: Số lượng mẫu ngẫu nhiên bạn muốn tạo.\n",
    "# Generate random values for theta from the specified normal distribution\n",
    "theta_values = np.random.normal(mu_theta, sigma_theta, num_points)\n",
    "\n",
    "# Generate Brownian motion terms (epsilon)\n",
    "epsilon_values = np.random.normal(0, sigma_epsilon, num_points)\n",
    "\n",
    "# Generate degradation signal using the model: S(t_k) = phi + theta * t_k + epsilon(t_k)\n",
    "degradation_signal = phi + theta_values * time_points + epsilon_values\n",
    "\n",
    "# Plotting\n",
    "plt.figure(figsize=(10, 6))\n",
    "plt.plot(time_points, degradation_signal, 'bo', label='Observed Data')\n",
    "plt.xlabel('Time')\n",
    "plt.ylabel('Degradation Signal')\n",
    "plt.title('Sensor Degradation Model Simulation')\n",
    "plt.legend()\n",
    "plt.grid(True)\n",
    "plt.show()"
   ]
  },
  {
   "cell_type": "code",
   "execution_count": 1,
   "id": "f886a14d-d121-4cbe-98f5-fa80802407b2",
   "metadata": {},
   "outputs": [
    {
     "ename": "ModuleNotFoundError",
     "evalue": "No module named 'matplotlib'",
     "output_type": "error",
     "traceback": [
      "\u001b[1;31m---------------------------------------------------------------------------\u001b[0m",
      "\u001b[1;31mModuleNotFoundError\u001b[0m                       Traceback (most recent call last)",
      "Cell \u001b[1;32mIn[1], line 2\u001b[0m\n\u001b[0;32m      1\u001b[0m \u001b[38;5;28;01mimport\u001b[39;00m \u001b[38;5;21;01mnumpy\u001b[39;00m \u001b[38;5;28;01mas\u001b[39;00m \u001b[38;5;21;01mnp\u001b[39;00m\n\u001b[1;32m----> 2\u001b[0m \u001b[38;5;28;01mimport\u001b[39;00m \u001b[38;5;21;01mmatplotlib\u001b[39;00m\u001b[38;5;21;01m.\u001b[39;00m\u001b[38;5;21;01mpyplot\u001b[39;00m \u001b[38;5;28;01mas\u001b[39;00m \u001b[38;5;21;01mplt\u001b[39;00m\n\u001b[0;32m      3\u001b[0m \u001b[38;5;28;01mfrom\u001b[39;00m \u001b[38;5;21;01mscipy\u001b[39;00m\u001b[38;5;21;01m.\u001b[39;00m\u001b[38;5;21;01mstats\u001b[39;00m \u001b[38;5;28;01mimport\u001b[39;00m norm\n\u001b[0;32m      5\u001b[0m \u001b[38;5;66;03m# True parameters\u001b[39;00m\n",
      "\u001b[1;31mModuleNotFoundError\u001b[0m: No module named 'matplotlib'"
     ]
    }
   ],
   "source": [
    "import numpy as np\n",
    "import matplotlib.pyplot as plt\n",
    "from scipy.stats import norm\n",
    "\n",
    "# True parameters\n",
    "true_phi = 10\n",
    "true_mu_theta = 0\n",
    "true_sigma_theta = 1\n",
    "true_sigma_epsilon = 1\n",
    "\n",
    "num_points = 100\n",
    "time_points = np.linspace(0, 10, num_points)\n",
    "\n",
    "# Generate true degradation signal using the model\n",
    "true_degradation_signal = true_phi + true_mu_theta * time_points\n",
    "\n",
    "# Simulate noisy observations\n",
    "observed_degradation_signal = true_degradation_signal + np.random.normal(0, true_sigma_epsilon, num_points)\n",
    "\n",
    "# Bayesian inference\n",
    "num_samples = 10000\n",
    "\n",
    "# Prior distribution for theta (mean and standard deviation)\n",
    "prior_mu_theta = 0\n",
    "prior_sigma_theta = 1\n",
    "# norm.pdf là một hàm được cung cấp bởi phân phối chuẩn (normal distribution) \n",
    "# để tính giá trị hàm mật độ xác suất (probability density function - PDF) của phân phối chuẩn tại một điểm cụ thể.\n",
    "#scipy.stats.norm.pdf(x, loc=0, scale=1)\n",
    "# loc: Giá trị trung bình của phân phối chuẩn.\n",
    "# scale: Độ lệch chuẩn của phân phối chuẩn (kích thước sự biến đổi từ giá trị trung bình).\n",
    "# size: Số lượng mẫu ngẫu nhiên bạn muốn tạo.\n",
    "# Likelihood function\n",
    "def likelihood(theta, observed_data, time_points):\n",
    "    predicted_signal = true_phi + theta * time_points\n",
    "    log_likelihood = np.sum(norm.logpdf(observed_data, loc=predicted_signal, scale=true_sigma_epsilon))\n",
    "    return log_likelihood\n",
    "\n",
    "# Posterior distribution\n",
    "posterior_samples_theta = np.random.normal(prior_mu_theta, prior_sigma_theta, num_samples)\n",
    "posterior_likelihoods = np.zeros(num_samples)\n",
    "\n",
    "for i, theta_sample in enumerate(posterior_samples_theta):\n",
    "    posterior_likelihoods[i] = likelihood(theta_sample, observed_degradation_signal, time_points)\n",
    "\n",
    "# Normalize posterior likelihoods\n",
    "posterior_probs = np.exp(posterior_likelihoods - np.max(posterior_likelihoods))\n",
    "posterior_probs /= np.sum(posterior_probs)\n",
    "\n",
    "# Estimate expected theta from posterior\n",
    "expected_theta = np.sum(posterior_probs * posterior_samples_theta)\n",
    "\n",
    "# Plotting\n",
    "plt.figure(figsize=(10, 6))\n",
    "\n",
    "plt.plot(time_points, observed_degradation_signal, 'bo', label='Observed Data')\n",
    "plt.plot(time_points, true_degradation_signal, 'r-', label='True Signal')\n",
    "plt.plot(time_points, true_phi + expected_theta * time_points, 'g-', label='Predicted Signal')\n",
    "plt.xlabel('Time')\n",
    "plt.ylabel('Degradation Signal')\n",
    "plt.title('Sensor Degradation Model with Bayesian Inference')\n",
    "plt.legend()\n",
    "plt.grid(True)\n",
    "plt.show()\n"
   ]
  },
  {
   "cell_type": "markdown",
   "id": "0fcea720-c4cf-4262-a69d-589a0ef34b64",
   "metadata": {},
   "source": [
    "# Exponential Degradation Model \n",
    "Dạng hàm mũ sẽ phù hợp cho các trường hợp mà tốc độ suy giảm bị ảnh hưởng bởi thiệt hại tích lũy. Các phương pháp và quy trình đều giống như Linear Degradation Model. Tín hiệu suy giảm có dạng: <br>\n",
    "            $ S_{t_k} = \\phi + \\theta exp(\\beta t_k + \\varepsilon(t_k) - (\\sigma^2 t_k/2 )) $ <br>\n",
    "            $ = \\phi +(\\theta e^{ \\beta t_k})(e^{\\varepsilon(t_k) - (\\sigma^2 t_k/2  )}   <br>$\n",
    "Với$ S_{t_k} $ là giá trị đo được của tín hiệu tại thời điểm $ t_k $ <br>\n",
    "$\\phi$ là một tham số xác định không đổi.$\\theta  và \\beta$ là các tham số model ngẫu nhiên và $ \\varepsilon(t_k) $ là số hạng sai số theo mô hình Brownian. Để thuận tiện về mặt toán học, chúng ta sẽ nghiên cứu với dạng logarit của Degradation Model được ký hiệu $ L({t_k}) $ <br>S\n",
    "           $ L_{(t_k)} = ln(S_{(t_k)} - \\phi) $ <br>\n",
    "           $           = ln\\theta + \\beta t_k + \\varepsilon(t_k) - (\\sigma^2 t_k/2 )        $ <br>\n",
    "           $ =\\theta' +\\beta' t_k +\\varepsilon (t_k) $ <br>\n",
    "           với tham số $ \\theta' = ln(\\theta)$ và $ \\beta' = \\beta - \\sigma^2/2 $ \n"
   ]
  },
  {
   "cell_type": "markdown",
   "id": "f8e5fec5-a9f6-41c3-b1bb-29270ae9781b",
   "metadata": {},
   "source": [
    "# Computing the Remaining Life Distrtibution\n",
    "T"
   ]
  }
 ],
 "metadata": {
  "kernelspec": {
   "display_name": "Python 3 (ipykernel)",
   "language": "python",
   "name": "python3"
  },
  "language_info": {
   "codemirror_mode": {
    "name": "ipython",
    "version": 3
   },
   "file_extension": ".py",
   "mimetype": "text/x-python",
   "name": "python",
   "nbconvert_exporter": "python",
   "pygments_lexer": "ipython3",
   "version": "3.11.4"
  }
 },
 "nbformat": 4,
 "nbformat_minor": 5
}
